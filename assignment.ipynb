{
 "cells": [
  {
   "cell_type": "code",
   "execution_count": 1,
   "id": "d4f7867d",
   "metadata": {},
   "outputs": [],
   "source": [
    "import  pandas as pd\n",
    "import numpy as np\n",
    "import json"
   ]
  },
  {
   "cell_type": "code",
   "execution_count": 2,
   "id": "b864d9c3",
   "metadata": {},
   "outputs": [],
   "source": [
    "df=pd.read_csv(\"iris.csv\")\n",
    "with open(\"algoparams_from_ui.json.json\",\"r\") as f:\n",
    "    jfile=f.read()\n",
    "data=json.loads(jfile)"
   ]
  },
  {
   "cell_type": "code",
   "execution_count": 3,
   "id": "93271539",
   "metadata": {},
   "outputs": [
    {
     "data": {
      "text/plain": [
       "dict_keys(['session_name', 'session_description', 'design_state_data'])"
      ]
     },
     "execution_count": 3,
     "metadata": {},
     "output_type": "execute_result"
    }
   ],
   "source": [
    "data.keys()"
   ]
  },
  {
   "cell_type": "code",
   "execution_count": 4,
   "id": "a18b1cff",
   "metadata": {},
   "outputs": [
    {
     "data": {
      "text/plain": [
       "dict_keys(['session_info', 'target', 'train', 'metrics', 'feature_handling', 'feature_generation', 'feature_reduction', 'hyperparameters', 'weighting_stratergy', 'probability_calibration', 'algorithms'])"
      ]
     },
     "execution_count": 4,
     "metadata": {},
     "output_type": "execute_result"
    }
   ],
   "source": [
    "data[\"design_state_data\"].keys()"
   ]
  },
  {
   "cell_type": "markdown",
   "id": "f4affd71",
   "metadata": {},
   "source": [
    "import all algorithms"
   ]
  },
  {
   "cell_type": "markdown",
   "id": "74ef480d",
   "metadata": {},
   "source": [
    "step 1"
   ]
  },
  {
   "cell_type": "code",
   "execution_count": 5,
   "id": "090a2c73",
   "metadata": {},
   "outputs": [
    {
     "data": {
      "text/plain": [
       "('regression', 'petal_width')"
      ]
     },
     "execution_count": 5,
     "metadata": {},
     "output_type": "execute_result"
    }
   ],
   "source": [
    "type_=data[\"design_state_data\"][\"target\"][\"type\"]\n",
    "target=data[\"design_state_data\"][\"target\"][\"target\"]\n",
    "type_,target\n"
   ]
  },
  {
   "cell_type": "markdown",
   "id": "ae5378db",
   "metadata": {},
   "source": [
    "step2:handling missing value"
   ]
  },
  {
   "cell_type": "code",
   "execution_count": 6,
   "id": "3da6d804",
   "metadata": {},
   "outputs": [
    {
     "name": "stdout",
     "output_type": "stream",
     "text": [
      "\n",
      "sepal_length\n",
      "{'numerical_handling': 'Keep as regular numerical feature', 'rescaling': 'No rescaling', 'make_derived_feats': False, 'missing_values': 'Impute', 'impute_with': 'Average of values', 'impute_value': 0}\n",
      "\n",
      "sepal_width\n",
      "{'numerical_handling': 'Keep as regular numerical feature', 'rescaling': 'No rescaling', 'make_derived_feats': False, 'missing_values': 'Impute', 'impute_with': 'custom', 'impute_value': -1}\n",
      "\n",
      "petal_length\n",
      "{'numerical_handling': 'Keep as regular numerical feature', 'rescaling': 'No rescaling', 'make_derived_feats': False, 'missing_values': 'Impute', 'impute_with': 'Average of values', 'impute_value': 0}\n",
      "\n",
      "petal_width\n",
      "{'numerical_handling': 'Keep as regular numerical feature', 'rescaling': 'No rescaling', 'make_derived_feats': False, 'missing_values': 'Impute', 'impute_with': 'custom', 'impute_value': -2}\n",
      "\n",
      "species\n",
      "{'text_handling': 'Tokenize and hash', 'hash_columns': 0}\n"
     ]
    }
   ],
   "source": [
    "for i in data[\"design_state_data\"][\"feature_handling\"]:\n",
    "    print()\n",
    "    print(i)\n",
    "    print(data[\"design_state_data\"][\"feature_handling\"][i][\"feature_details\"])           "
   ]
  },
  {
   "cell_type": "code",
   "execution_count": 7,
   "id": "a1d6679a",
   "metadata": {},
   "outputs": [],
   "source": [
    "df[\"sepal_length\"]=df.sepal_length.fillna(df[\"sepal_length\"].mean())\n",
    "df[\"sepal_width\"]=df.sepal_length.fillna(-1)\n",
    "df[\"petal_length\"]=df.sepal_length.fillna(df[\"sepal_length\"].mean())\n",
    "df[\"petal_width\"]=df.sepal_length.fillna(-2)"
   ]
  },
  {
   "cell_type": "code",
   "execution_count": 8,
   "id": "40b957b3",
   "metadata": {},
   "outputs": [
    {
     "data": {
      "text/html": [
       "<div>\n",
       "<style scoped>\n",
       "    .dataframe tbody tr th:only-of-type {\n",
       "        vertical-align: middle;\n",
       "    }\n",
       "\n",
       "    .dataframe tbody tr th {\n",
       "        vertical-align: top;\n",
       "    }\n",
       "\n",
       "    .dataframe thead th {\n",
       "        text-align: right;\n",
       "    }\n",
       "</style>\n",
       "<table border=\"1\" class=\"dataframe\">\n",
       "  <thead>\n",
       "    <tr style=\"text-align: right;\">\n",
       "      <th></th>\n",
       "      <th>sepal_length</th>\n",
       "      <th>sepal_width</th>\n",
       "      <th>petal_length</th>\n",
       "      <th>petal_width</th>\n",
       "      <th>species_Iris-versicolor</th>\n",
       "      <th>species_Iris-virginica</th>\n",
       "    </tr>\n",
       "  </thead>\n",
       "  <tbody>\n",
       "    <tr>\n",
       "      <th>0</th>\n",
       "      <td>5.1</td>\n",
       "      <td>5.1</td>\n",
       "      <td>5.1</td>\n",
       "      <td>5.1</td>\n",
       "      <td>0</td>\n",
       "      <td>0</td>\n",
       "    </tr>\n",
       "    <tr>\n",
       "      <th>1</th>\n",
       "      <td>4.9</td>\n",
       "      <td>4.9</td>\n",
       "      <td>4.9</td>\n",
       "      <td>4.9</td>\n",
       "      <td>0</td>\n",
       "      <td>0</td>\n",
       "    </tr>\n",
       "    <tr>\n",
       "      <th>2</th>\n",
       "      <td>4.7</td>\n",
       "      <td>4.7</td>\n",
       "      <td>4.7</td>\n",
       "      <td>4.7</td>\n",
       "      <td>0</td>\n",
       "      <td>0</td>\n",
       "    </tr>\n",
       "  </tbody>\n",
       "</table>\n",
       "</div>"
      ],
      "text/plain": [
       "   sepal_length  sepal_width  petal_length  petal_width  \\\n",
       "0           5.1          5.1           5.1          5.1   \n",
       "1           4.9          4.9           4.9          4.9   \n",
       "2           4.7          4.7           4.7          4.7   \n",
       "\n",
       "   species_Iris-versicolor  species_Iris-virginica  \n",
       "0                        0                       0  \n",
       "1                        0                       0  \n",
       "2                        0                       0  "
      ]
     },
     "execution_count": 8,
     "metadata": {},
     "output_type": "execute_result"
    }
   ],
   "source": [
    "df=pd.get_dummies(df,drop_first=True)\n",
    "df.head(3)\n"
   ]
  },
  {
   "cell_type": "markdown",
   "id": "acce0f26",
   "metadata": {},
   "source": [
    "step3:feature Reduction"
   ]
  },
  {
   "cell_type": "code",
   "execution_count": 9,
   "id": "72f5d727",
   "metadata": {},
   "outputs": [
    {
     "data": {
      "text/plain": [
       "dict_keys(['session_info', 'target', 'train', 'metrics', 'feature_handling', 'feature_generation', 'feature_reduction', 'hyperparameters', 'weighting_stratergy', 'probability_calibration', 'algorithms'])"
      ]
     },
     "execution_count": 9,
     "metadata": {},
     "output_type": "execute_result"
    }
   ],
   "source": [
    "data[\"design_state_data\"].keys()"
   ]
  },
  {
   "cell_type": "code",
   "execution_count": 10,
   "id": "f1be9eed",
   "metadata": {},
   "outputs": [
    {
     "data": {
      "text/plain": [
       "{'feature_reduction_method': 'Tree-based',\n",
       " 'num_of_features_to_keep': '4',\n",
       " 'num_of_trees': '5',\n",
       " 'depth_of_trees': '6'}"
      ]
     },
     "execution_count": 10,
     "metadata": {},
     "output_type": "execute_result"
    }
   ],
   "source": [
    "data[\"design_state_data\"][\"feature_reduction\"]"
   ]
  },
  {
   "cell_type": "code",
   "execution_count": 11,
   "id": "026fa248",
   "metadata": {},
   "outputs": [],
   "source": [
    "y=df[target]"
   ]
  },
  {
   "cell_type": "code",
   "execution_count": 12,
   "id": "0dfb3c81",
   "metadata": {},
   "outputs": [],
   "source": [
    "#apply feature Reduction \n",
    "if data[\"design_state_data\"][\"feature_reduction\"]['feature_reduction_method']==\"PCA\":\n",
    "    from sklearn.decomposition import PCA\n",
    "    pca=PCA(n_components=data[\"design_state_data\"][\"feature_reduction\"]['num_of_features_to_keep'])\n",
    "    x=pca.fit_transform(df.drop(target,axis=1))\n",
    "if data[\"design_state_data\"][\"feature_reduction\"]['feature_reduction_method']==\"No Reduction\":\n",
    "    x=df.drop(target,axis=1)\n",
    "else:\n",
    "    x=df.drop(target,axis=1)\n"
   ]
  },
  {
   "cell_type": "code",
   "execution_count": 13,
   "id": "aba94989",
   "metadata": {},
   "outputs": [],
   "source": [
    "# Train test Split\n",
    "from sklearn.model_selection import train_test_split\n",
    "x_train,x_test,y_train,y_test=train_test_split(x,y,test_size=0.3,random_state=10)"
   ]
  },
  {
   "cell_type": "markdown",
   "id": "4c6250fe",
   "metadata": {},
   "source": [
    "step4: Model Building"
   ]
  },
  {
   "cell_type": "code",
   "execution_count": 14,
   "id": "7dbfb08e",
   "metadata": {},
   "outputs": [
    {
     "data": {
      "text/plain": [
       "dict_keys(['RandomForestClassifier', 'RandomForestRegressor', 'GBTClassifier', 'GBTRegressor', 'LinearRegression', 'LogisticRegression', 'RidgeRegression', 'LassoRegression', 'ElasticNetRegression', 'xg_boost', 'DecisionTreeRegressor', 'DecisionTreeClassifier', 'SVM', 'SGD', 'KNN', 'extra_random_trees', 'neural_network'])"
      ]
     },
     "execution_count": 14,
     "metadata": {},
     "output_type": "execute_result"
    }
   ],
   "source": [
    "data[\"design_state_data\"][\"algorithms\"].keys()"
   ]
  },
  {
   "cell_type": "code",
   "execution_count": 15,
   "id": "9a3c5217",
   "metadata": {},
   "outputs": [
    {
     "name": "stdout",
     "output_type": "stream",
     "text": [
      "Random Forest Regressor\n"
     ]
    }
   ],
   "source": [
    "#check which model to choose \n",
    "for i in data[\"design_state_data\"][\"algorithms\"]:\n",
    "    if data[\"design_state_data\"][\"algorithms\"][i][\"is_selected\"]==True:\n",
    "        print(data[\"design_state_data\"][\"algorithms\"][i][\"model_name\"])"
   ]
  },
  {
   "cell_type": "code",
   "execution_count": 16,
   "id": "dadea030",
   "metadata": {},
   "outputs": [],
   "source": [
    "from sklearn.ensemble import RandomForestClassifier,RandomForestRegressor,GradientBoostingClassifier,GradientBoostingRegressor\n",
    "from sklearn.linear_model import LinearRegression,LogisticRegression,Ridge,Lasso,ElasticNet,SGDClassifier\n",
    "from sklearn.tree import DecisionTreeRegressor,DecisionTreeClassifier\n",
    "from sklearn.svm import SVC\n",
    "from sklearn.neighbors import KNeighborsClassifier\n",
    "import sklearn.neural_network"
   ]
  },
  {
   "cell_type": "code",
   "execution_count": 17,
   "id": "7cd3fe45",
   "metadata": {},
   "outputs": [
    {
     "data": {
      "text/plain": [
       "{'model_name': 'Random Forest Regressor',\n",
       " 'is_selected': True,\n",
       " 'min_trees': 10,\n",
       " 'max_trees': 20,\n",
       " 'feature_sampling_statergy': 'Default',\n",
       " 'min_depth': 20,\n",
       " 'max_depth': 25,\n",
       " 'min_samples_per_leaf_min_value': 5,\n",
       " 'min_samples_per_leaf_max_value': 10,\n",
       " 'parallelism': 0}"
      ]
     },
     "execution_count": 17,
     "metadata": {},
     "output_type": "execute_result"
    }
   ],
   "source": [
    "data[\"design_state_data\"][\"algorithms\"][\"RandomForestRegressor\"]\n"
   ]
  },
  {
   "cell_type": "code",
   "execution_count": 18,
   "id": "21d4eb5b",
   "metadata": {},
   "outputs": [
    {
     "data": {
      "text/plain": [
       "0.9825719036251743"
      ]
     },
     "execution_count": 18,
     "metadata": {},
     "output_type": "execute_result"
    }
   ],
   "source": [
    "model=RandomForestRegressor(n_estimators=15,min_samples_leaf=5,max_depth=25)\n",
    "model.fit(x_train,y_train)\n",
    "y_predicted=model.predict(x_test)\n",
    "model.score(x_test,y_test)\n",
    "\n"
   ]
  },
  {
   "cell_type": "markdown",
   "id": "c002e599",
   "metadata": {},
   "source": [
    "step 5:#hyper tunning using gridSearchCV "
   ]
  },
  {
   "cell_type": "code",
   "execution_count": 19,
   "id": "0ad2c7b8",
   "metadata": {},
   "outputs": [
    {
     "data": {
      "text/plain": [
       "{'stratergy': 'Grid Search',\n",
       " 'shuffle_grid': True,\n",
       " 'random_state': 1,\n",
       " 'max_iterations': 2,\n",
       " 'max_search_time': 3,\n",
       " 'parallelism': 5,\n",
       " 'cross_validation_stratergy': 'Time-based K-fold(with overlap)',\n",
       " 'num_of_folds': 6,\n",
       " 'split_ratio': 0,\n",
       " 'stratified': True}"
      ]
     },
     "execution_count": 19,
     "metadata": {},
     "output_type": "execute_result"
    }
   ],
   "source": [
    "#hyper tunning using gridSearchCV\n",
    "data[\"design_state_data\"]['hyperparameters']"
   ]
  },
  {
   "cell_type": "code",
   "execution_count": 20,
   "id": "767f807f",
   "metadata": {},
   "outputs": [],
   "source": [
    "from sklearn.model_selection import GridSearchCV\n",
    "clf = GridSearchCV(model,{\"n_estimators\":[40,50,100]},cv=6)\n",
    "clf=clf.fit(x_train,y_train)\n"
   ]
  },
  {
   "cell_type": "code",
   "execution_count": 21,
   "id": "4df3787c",
   "metadata": {},
   "outputs": [
    {
     "data": {
      "text/html": [
       "<div>\n",
       "<style scoped>\n",
       "    .dataframe tbody tr th:only-of-type {\n",
       "        vertical-align: middle;\n",
       "    }\n",
       "\n",
       "    .dataframe tbody tr th {\n",
       "        vertical-align: top;\n",
       "    }\n",
       "\n",
       "    .dataframe thead th {\n",
       "        text-align: right;\n",
       "    }\n",
       "</style>\n",
       "<table border=\"1\" class=\"dataframe\">\n",
       "  <thead>\n",
       "    <tr style=\"text-align: right;\">\n",
       "      <th></th>\n",
       "      <th>mean_fit_time</th>\n",
       "      <th>std_fit_time</th>\n",
       "      <th>mean_score_time</th>\n",
       "      <th>std_score_time</th>\n",
       "      <th>param_n_estimators</th>\n",
       "      <th>params</th>\n",
       "      <th>split0_test_score</th>\n",
       "      <th>split1_test_score</th>\n",
       "      <th>split2_test_score</th>\n",
       "      <th>split3_test_score</th>\n",
       "      <th>split4_test_score</th>\n",
       "      <th>split5_test_score</th>\n",
       "      <th>mean_test_score</th>\n",
       "      <th>std_test_score</th>\n",
       "      <th>rank_test_score</th>\n",
       "    </tr>\n",
       "  </thead>\n",
       "  <tbody>\n",
       "    <tr>\n",
       "      <th>0</th>\n",
       "      <td>0.036096</td>\n",
       "      <td>0.005927</td>\n",
       "      <td>0.003137</td>\n",
       "      <td>0.005721</td>\n",
       "      <td>40</td>\n",
       "      <td>{'n_estimators': 40}</td>\n",
       "      <td>0.992164</td>\n",
       "      <td>0.952122</td>\n",
       "      <td>0.995426</td>\n",
       "      <td>0.993862</td>\n",
       "      <td>0.958851</td>\n",
       "      <td>0.993555</td>\n",
       "      <td>0.980997</td>\n",
       "      <td>0.018168</td>\n",
       "      <td>1</td>\n",
       "    </tr>\n",
       "    <tr>\n",
       "      <th>1</th>\n",
       "      <td>0.037539</td>\n",
       "      <td>0.008811</td>\n",
       "      <td>0.003396</td>\n",
       "      <td>0.007594</td>\n",
       "      <td>50</td>\n",
       "      <td>{'n_estimators': 50}</td>\n",
       "      <td>0.987606</td>\n",
       "      <td>0.951706</td>\n",
       "      <td>0.995656</td>\n",
       "      <td>0.991176</td>\n",
       "      <td>0.958073</td>\n",
       "      <td>0.992153</td>\n",
       "      <td>0.979395</td>\n",
       "      <td>0.017582</td>\n",
       "      <td>3</td>\n",
       "    </tr>\n",
       "    <tr>\n",
       "      <th>2</th>\n",
       "      <td>0.085063</td>\n",
       "      <td>0.008402</td>\n",
       "      <td>0.006367</td>\n",
       "      <td>0.003659</td>\n",
       "      <td>100</td>\n",
       "      <td>{'n_estimators': 100}</td>\n",
       "      <td>0.989119</td>\n",
       "      <td>0.951198</td>\n",
       "      <td>0.996902</td>\n",
       "      <td>0.993793</td>\n",
       "      <td>0.958527</td>\n",
       "      <td>0.993117</td>\n",
       "      <td>0.980443</td>\n",
       "      <td>0.018351</td>\n",
       "      <td>2</td>\n",
       "    </tr>\n",
       "  </tbody>\n",
       "</table>\n",
       "</div>"
      ],
      "text/plain": [
       "   mean_fit_time  std_fit_time  mean_score_time  std_score_time  \\\n",
       "0       0.036096      0.005927         0.003137        0.005721   \n",
       "1       0.037539      0.008811         0.003396        0.007594   \n",
       "2       0.085063      0.008402         0.006367        0.003659   \n",
       "\n",
       "  param_n_estimators                 params  split0_test_score  \\\n",
       "0                 40   {'n_estimators': 40}           0.992164   \n",
       "1                 50   {'n_estimators': 50}           0.987606   \n",
       "2                100  {'n_estimators': 100}           0.989119   \n",
       "\n",
       "   split1_test_score  split2_test_score  split3_test_score  split4_test_score  \\\n",
       "0           0.952122           0.995426           0.993862           0.958851   \n",
       "1           0.951706           0.995656           0.991176           0.958073   \n",
       "2           0.951198           0.996902           0.993793           0.958527   \n",
       "\n",
       "   split5_test_score  mean_test_score  std_test_score  rank_test_score  \n",
       "0           0.993555         0.980997        0.018168                1  \n",
       "1           0.992153         0.979395        0.017582                3  \n",
       "2           0.993117         0.980443        0.018351                2  "
      ]
     },
     "execution_count": 21,
     "metadata": {},
     "output_type": "execute_result"
    }
   ],
   "source": [
    "score= pd.DataFrame(clf.cv_results_)\n",
    "score"
   ]
  },
  {
   "cell_type": "code",
   "execution_count": 22,
   "id": "4104b95d",
   "metadata": {},
   "outputs": [
    {
     "data": {
      "text/plain": [
       "0.9809966536100615"
      ]
     },
     "execution_count": 22,
     "metadata": {},
     "output_type": "execute_result"
    }
   ],
   "source": [
    "clf.best_score_"
   ]
  },
  {
   "cell_type": "markdown",
   "id": "5dfafb4b",
   "metadata": {},
   "source": [
    "step 6:Log to the console the standard model metrics that apply"
   ]
  },
  {
   "cell_type": "code",
   "execution_count": null,
   "id": "d8d6abd1",
   "metadata": {},
   "outputs": [],
   "source": []
  }
 ],
 "metadata": {
  "kernelspec": {
   "display_name": "Python 3 (ipykernel)",
   "language": "python",
   "name": "python3"
  },
  "language_info": {
   "codemirror_mode": {
    "name": "ipython",
    "version": 3
   },
   "file_extension": ".py",
   "mimetype": "text/x-python",
   "name": "python",
   "nbconvert_exporter": "python",
   "pygments_lexer": "ipython3",
   "version": "3.10.6"
  }
 },
 "nbformat": 4,
 "nbformat_minor": 5
}
